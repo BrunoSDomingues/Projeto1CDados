{
 "cells": [
  {
   "cell_type": "markdown",
   "metadata": {},
   "source": [
    "<h1>Projeto 1 - Bruno Domingues</h1>\n",
    "<h1>Turma 2C</h1>\n",
    "<h2>Pergunta:</h2>\n",
    "<h3>Há relação da % que o setor industrial representa do PIB com o IDH? E da densidade populacional com o IDH?</h3>"
   ]
  },
  {
   "cell_type": "code",
   "execution_count": 23,
   "metadata": {},
   "outputs": [],
   "source": [
    "#Imports\n",
    "import pandas as pd\n",
    "import matplotlib.pyplot as plt\n",
    "import numpy as np\n",
    "import seaborn as sns\n",
    "from math import *"
   ]
  },
  {
   "cell_type": "code",
   "execution_count": 3,
   "metadata": {},
   "outputs": [],
   "source": [
    "#lendo as planilhas\n",
    "IDH = pd.read_excel(\"hdi_human_development_index.xlsx\")\n",
    "Indu = pd.read_excel(\"industry_percent_of_gdp.xlsx\")\n",
    "Dens = pd.read_excel(\"population_density_per_square_km.xlsx\")"
   ]
  },
  {
   "cell_type": "code",
   "execution_count": 4,
   "metadata": {},
   "outputs": [],
   "source": [
    "#Ajustando a planilha de IDH para o ano de 2011 e tirando os NaN\n",
    "IDH_2011 = IDH.loc[:,[\"geo\",2011]]\n",
    "IDH_2011_index = IDH_2011.set_index(\"geo\")\n",
    "IDH_2011_fix = IDH_2011_index.dropna()"
   ]
  },
  {
   "cell_type": "code",
   "execution_count": 5,
   "metadata": {},
   "outputs": [],
   "source": [
    "#Ajustando a planilha de industria para o ano de 2011 e tirando os NaN\n",
    "Indu_2011 = Indu.loc[:,[\"geo\",2011]]\n",
    "Indu_2011_index = Indu_2011.set_index(\"geo\")\n",
    "Indu_2011_fix = Indu_2011_index.dropna()"
   ]
  },
  {
   "cell_type": "code",
   "execution_count": 6,
   "metadata": {},
   "outputs": [],
   "source": [
    "#Ajustando a planilha de densidade populacional para o ano de 2011 e tirando os NaN\n",
    "Dens_2011 = Dens.loc[:,[\"geo\",2011]]\n",
    "Dens_2011_index = Dens_2011.set_index(\"geo\")\n",
    "Dens_2011_fix = Dens_2011_index.dropna()"
   ]
  },
  {
   "cell_type": "code",
   "execution_count": 7,
   "metadata": {},
   "outputs": [
    {
     "data": {
      "text/html": [
       "<div>\n",
       "<style scoped>\n",
       "    .dataframe tbody tr th:only-of-type {\n",
       "        vertical-align: middle;\n",
       "    }\n",
       "\n",
       "    .dataframe tbody tr th {\n",
       "        vertical-align: top;\n",
       "    }\n",
       "\n",
       "    .dataframe thead th {\n",
       "        text-align: right;\n",
       "    }\n",
       "</style>\n",
       "<table border=\"1\" class=\"dataframe\">\n",
       "  <thead>\n",
       "    <tr style=\"text-align: right;\">\n",
       "      <th></th>\n",
       "      <th>HDI</th>\n",
       "      <th>Industry % of GDP</th>\n",
       "      <th>Pop. Dens. per square km</th>\n",
       "    </tr>\n",
       "    <tr>\n",
       "      <th>Country</th>\n",
       "      <th></th>\n",
       "      <th></th>\n",
       "      <th></th>\n",
       "    </tr>\n",
       "  </thead>\n",
       "  <tbody>\n",
       "    <tr>\n",
       "      <th>Afghanistan</th>\n",
       "      <td>0.463</td>\n",
       "      <td>23.5</td>\n",
       "      <td>45.50</td>\n",
       "    </tr>\n",
       "    <tr>\n",
       "      <th>Albania</th>\n",
       "      <td>0.752</td>\n",
       "      <td>28.2</td>\n",
       "      <td>107.00</td>\n",
       "    </tr>\n",
       "    <tr>\n",
       "      <th>Algeria</th>\n",
       "      <td>0.732</td>\n",
       "      <td>52.7</td>\n",
       "      <td>15.50</td>\n",
       "    </tr>\n",
       "    <tr>\n",
       "      <th>Andorra</th>\n",
       "      <td>0.819</td>\n",
       "      <td>13.6</td>\n",
       "      <td>178.00</td>\n",
       "    </tr>\n",
       "    <tr>\n",
       "      <th>Antigua and Barbuda</th>\n",
       "      <td>0.778</td>\n",
       "      <td>16.9</td>\n",
       "      <td>218.00</td>\n",
       "    </tr>\n",
       "    <tr>\n",
       "      <th>Argentina</th>\n",
       "      <td>0.822</td>\n",
       "      <td>30.0</td>\n",
       "      <td>15.20</td>\n",
       "    </tr>\n",
       "    <tr>\n",
       "      <th>Armenia</th>\n",
       "      <td>0.732</td>\n",
       "      <td>33.8</td>\n",
       "      <td>101.00</td>\n",
       "    </tr>\n",
       "    <tr>\n",
       "      <th>Australia</th>\n",
       "      <td>0.930</td>\n",
       "      <td>28.5</td>\n",
       "      <td>2.93</td>\n",
       "    </tr>\n",
       "    <tr>\n",
       "      <th>Austria</th>\n",
       "      <td>0.884</td>\n",
       "      <td>28.6</td>\n",
       "      <td>103.00</td>\n",
       "    </tr>\n",
       "    <tr>\n",
       "      <th>Azerbaijan</th>\n",
       "      <td>0.742</td>\n",
       "      <td>65.6</td>\n",
       "      <td>111.00</td>\n",
       "    </tr>\n",
       "  </tbody>\n",
       "</table>\n",
       "</div>"
      ],
      "text/plain": [
       "                       HDI  Industry % of GDP  Pop. Dens. per square km\n",
       "Country                                                                \n",
       "Afghanistan          0.463               23.5                     45.50\n",
       "Albania              0.752               28.2                    107.00\n",
       "Algeria              0.732               52.7                     15.50\n",
       "Andorra              0.819               13.6                    178.00\n",
       "Antigua and Barbuda  0.778               16.9                    218.00\n",
       "Argentina            0.822               30.0                     15.20\n",
       "Armenia              0.732               33.8                    101.00\n",
       "Australia            0.930               28.5                      2.93\n",
       "Austria              0.884               28.6                    103.00\n",
       "Azerbaijan           0.742               65.6                    111.00"
      ]
     },
     "execution_count": 7,
     "metadata": {},
     "output_type": "execute_result"
    }
   ],
   "source": [
    "#Juntando as três planilhas, ajustando o nome de colunas e do index\n",
    "Junto_1 = IDH_2011_fix.join(Indu_2011_fix,how=\"inner\",lsuffix=\" IDH\",rsuffix=\" Industry % of GDP\")\n",
    "Ano2011Final = Junto_1.join(Dens_2011_fix,how=\"inner\")\n",
    "Ano2011Final.columns = [\"HDI\", \"Industry % of GDP\", \"Pop. Dens. per square km\"]\n",
    "Ano2011Final.index.names = [\"Country\"]\n",
    "Ano2011Final.head(10)"
   ]
  },
  {
   "cell_type": "code",
   "execution_count": 26,
   "metadata": {},
   "outputs": [
    {
     "name": "stderr",
     "output_type": "stream",
     "text": [
      "C:\\Users\\Bruno\\Anaconda\\lib\\site-packages\\scipy\\stats\\stats.py:1713: FutureWarning: Using a non-tuple sequence for multidimensional indexing is deprecated; use `arr[tuple(seq)]` instead of `arr[seq]`. In the future this will be interpreted as an array index, `arr[np.array(seq)]`, which will result either in an error or a different result.\n",
      "  return np.add.reduce(sorted[indexer] * weights, axis=axis) / sumval\n"
     ]
    },
    {
     "data": {
      "image/png": "[encoded data removed]",
      "text/plain": [
       "<Figure size 432x288 with 1 Axes>"
      ]
     },
     "metadata": {},
     "output_type": "display_data"
    }
   ],
   "source": [
    "sns.regplot(Ano2011Final[\"Industry % of GDP\"], Ano2011Final[\"HDI\"])\n",
    "plt.show()\n"
   ]
  },
  {
   "cell_type": "code",
   "execution_count": null,
   "metadata": {},
   "outputs": [],
   "source": []
  }
 ],
 "metadata": {
  "kernelspec": {
   "display_name": "Python 3",
   "language": "python",
   "name": "python3"
  },
  "language_info": {
   "codemirror_mode": {
    "name": "ipython",
    "version": 3
   },
   "file_extension": ".py",
   "mimetype": "text/x-python",
   "name": "python",
   "nbconvert_exporter": "python",
   "pygments_lexer": "ipython3",
   "version": "3.6.6"
  }
 },
 "nbformat": 4,
 "nbformat_minor": 2
}
